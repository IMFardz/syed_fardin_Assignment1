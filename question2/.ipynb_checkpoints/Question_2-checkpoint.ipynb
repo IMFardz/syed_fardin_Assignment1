{
 "cells": [
  {
   "cell_type": "code",
   "execution_count": 3,
   "metadata": {
    "collapsed": true
   },
   "outputs": [],
   "source": [
    "import math as m"
   ]
  },
  {
   "cell_type": "code",
   "execution_count": 4,
   "metadata": {
    "collapsed": true
   },
   "outputs": [],
   "source": [
    "def get_binomial_coefficient(n, k):\n",
    "    return m.factorial(n)/(m.factorial(k) * m.factorial(n - k))"
   ]
  },
  {
   "cell_type": "code",
   "execution_count": 5,
   "metadata": {},
   "outputs": [
    {
     "name": "stdout",
     "output_type": "stream",
     "text": [
      "1.0 \n",
      "1.0 1.0 \n",
      "1.0 2.0 1.0 \n",
      "1.0 3.0 3.0 1.0 \n",
      "1.0 4.0 6.0 4.0 1.0 \n",
      "1.0 5.0 10.0 10.0 5.0 1.0 \n",
      "1.0 6.0 15.0 20.0 15.0 6.0 1.0 \n",
      "1.0 7.0 21.0 35.0 35.0 21.0 7.0 1.0 \n",
      "1.0 8.0 28.0 56.0 70.0 56.0 28.0 8.0 1.0 \n",
      "1.0 9.0 36.0 84.0 126.0 126.0 84.0 36.0 9.0 1.0 \n",
      "1.0 10.0 45.0 120.0 210.0 252.0 210.0 120.0 45.0 10.0 1.0 \n",
      "1.0 11.0 55.0 165.0 330.0 462.0 462.0 330.0 165.0 55.0 11.0 1.0 \n",
      "1.0 12.0 66.0 220.0 495.0 792.0 924.0 792.0 495.0 220.0 66.0 12.0 1.0 \n",
      "1.0 13.0 78.0 286.0 715.0 1287.0 1716.0 1716.0 1287.0 715.0 286.0 78.0 13.0 1.0 \n",
      "1.0 14.0 91.0 364.0 1001.0 2002.0 3003.0 3432.0 3003.0 2002.0 1001.0 364.0 91.0 14.0 1.0 \n",
      "1.0 15.0 105.0 455.0 1365.0 3003.0 5005.0 6435.0 6435.0 5005.0 3003.0 1365.0 455.0 105.0 15.0 1.0 \n",
      "1.0 16.0 120.0 560.0 1820.0 4368.0 8008.0 11440.0 12870.0 11440.0 8008.0 4368.0 1820.0 560.0 120.0 16.0 1.0 \n",
      "1.0 17.0 136.0 680.0 2380.0 6188.0 12376.0 19448.0 24310.0 24310.0 19448.0 12376.0 6188.0 2380.0 680.0 136.0 17.0 1.0 \n",
      "1.0 18.0 153.0 816.0 3060.0 8568.0 18564.0 31824.0 43758.0 48620.0 43758.0 31824.0 18564.0 8568.0 3060.0 816.0 153.0 18.0 1.0 \n",
      "1.0 19.0 171.0 969.0 3876.0 11628.0 27132.0 50388.0 75582.0 92378.0 92378.0 75582.0 50388.0 27132.0 11628.0 3876.0 969.0 171.0 19.0 1.0 \n"
     ]
    }
   ],
   "source": [
    "for i in range (20):\n",
    "    for j in range (i+1):\n",
    "        print (get_binomial_coefficient(i, j), end = ' ')\n",
    "    print()"
   ]
  },
  {
   "cell_type": "code",
   "execution_count": 6,
   "metadata": {
    "collapsed": true
   },
   "outputs": [],
   "source": [
    "def get_probability(t, n, p):\n",
    "    coefficient = get_binomial_coefficient(t,n)\n",
    "    return coefficient * (p**n)* ((1-p)**(t - n))"
   ]
  },
  {
   "cell_type": "code",
   "execution_count": 7,
   "metadata": {
    "collapsed": true
   },
   "outputs": [],
   "source": [
    "def get_probability_atleast(t, n, p):\n",
    "    counter = 0\n",
    "    for i in range(n):\n",
    "        counter += get_probability(t, i, p)\n",
    "    return 1 - counter"
   ]
  },
  {
   "cell_type": "code",
   "execution_count": 8,
   "metadata": {},
   "outputs": [
    {
     "name": "stdout",
     "output_type": "stream",
     "text": [
      "The probability of the batter getting at least one hit is: 0.68359375\n"
     ]
    }
   ],
   "source": [
    "one_hit = get_probability_atleast(4, 1, 0.25)\n",
    "print(\"The probability of the batter getting at least one hit is:\", one_hit)"
   ]
  },
  {
   "cell_type": "code",
   "execution_count": 9,
   "metadata": {},
   "outputs": [
    {
     "name": "stdout",
     "output_type": "stream",
     "text": [
      "Populating the interactive namespace from numpy and matplotlib\n"
     ]
    }
   ],
   "source": [
    "import matplotlib.pyplot as plt\n",
    "import numpy as np\n",
    "%pylab inline"
   ]
  },
  {
   "cell_type": "code",
   "execution_count": 10,
   "metadata": {
    "collapsed": true
   },
   "outputs": [],
   "source": [
    "def success(p):\n",
    "    \"\"\"Given a probability p, the chance of returning True is p and the\n",
    "    the chance of returning False is (1 - p)\"\"\"\n",
    "    num = random.random()\n",
    "    return num <= p"
   ]
  },
  {
   "cell_type": "code",
   "execution_count": 11,
   "metadata": {
    "collapsed": true
   },
   "outputs": [],
   "source": [
    "def simulation(N, p):\n",
    "    \"\"\"For N trials with probability of success p, return\n",
    "    the number of trials which are successful\"\"\"\n",
    "    counter = 0\n",
    "    for i in range (N):\n",
    "        returned_true = success(p)\n",
    "        if returned_true:\n",
    "            counter += 1\n",
    "    return counter"
   ]
  },
  {
   "cell_type": "code",
   "execution_count": 17,
   "metadata": {},
   "outputs": [
    {
     "name": "stdout",
     "output_type": "stream",
     "text": [
      "N = 10: 3\n",
      "N = 100: 29\n",
      "N = 1000: 248\n"
     ]
    },
    {
     "data": {
      "image/png": "[encoded data removed]",
      "text/plain": [
       "<matplotlib.figure.Figure at 0x113e750b8>"
      ]
     },
     "metadata": {},
     "output_type": "display_data"
    }
   ],
   "source": [
    "p = 0.25\n",
    "print(\"N = 10:\", simulation(10, p))\n",
    "print(\"N = 100:\", simulation(100, p))\n",
    "print(\"N = 1000:\", simulation(1000, p))\n",
    "x_axis = np.array([10, 100, 1000])\n",
    "y_axis = np.array([simulation(10, p), simulation(100, p), simulation(1000, p)])\n",
    "plt.figure(figsize=(6, 6))\n",
    "plt.clf()\n",
    "plt.plot(x_axis, y_axis/x_axis, marker = 'o', linestyle = '')\n",
    "plt.show()"
   ]
  },
  {
   "cell_type": "code",
   "execution_count": null,
   "metadata": {
    "collapsed": true
   },
   "outputs": [],
   "source": []
  }
 ],
 "metadata": {
  "kernelspec": {
   "display_name": "Python 3",
   "language": "python",
   "name": "python3"
  },
  "language_info": {
   "codemirror_mode": {
    "name": "ipython",
    "version": 3
   },
   "file_extension": ".py",
   "mimetype": "text/x-python",
   "name": "python",
   "nbconvert_exporter": "python",
   "pygments_lexer": "ipython3",
   "version": "3.6.1"
  }
 },
 "nbformat": 4,
 "nbformat_minor": 2
}
